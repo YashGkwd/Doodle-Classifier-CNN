{
  "nbformat": 4,
  "nbformat_minor": 0,
  "metadata": {
    "colab": {
      "name": "Doodle-Classfier.ipynb",
      "provenance": [],
      "collapsed_sections": []
    },
    "kernelspec": {
      "name": "python3",
      "display_name": "Python 3"
    },
    "language_info": {
      "name": "python"
    }
  },
  "cells": [
    {
      "cell_type": "code",
      "metadata": {
        "id": "V8V3qV0yWoTl"
      },
      "source": [
        "import torch\n",
        "import torch.nn as nn\n",
        "import torch.optim as op\n",
        "from torch.utils.data import Dataset, DataLoader\n",
        "import torch.nn.functional as f\n",
        "import matplotlib.pyplot as plt\n",
        "import numpy as np"
      ],
      "execution_count": null,
      "outputs": []
    },
    {
      "cell_type": "code",
      "metadata": {
        "id": "TcIbLlzaWsSn"
      },
      "source": [
        "#Extracting the dataset zip file\n",
        "!unrar e '/content/drive/MyDrive/IvLabs/CNN Dataset/Doodle dataset.rar'"
      ],
      "execution_count": null,
      "outputs": []
    },
    {
      "cell_type": "code",
      "metadata": {
        "id": "RjKTgTGmWz5k"
      },
      "source": [
        "#Shifting to GPUs\n",
        "device = torch.device('cuda' if torch.cuda.is_available() else 'cpu')\n",
        "device"
      ],
      "execution_count": null,
      "outputs": []
    },
    {
      "cell_type": "code",
      "metadata": {
        "id": "yOoimEzqW6e8"
      },
      "source": [
        "d1=np.load(\"/content/full_numpy_bitmap_airplane.npy\")\n",
        "l1=np.full((d1.shape[0],1),0)\n",
        "d2=np.load(\"/content/full_numpy_bitmap_ant.npy\")\n",
        "l2=np.full((d2.shape[0],1),1)\n",
        "d3=np.load(\"/content/full_numpy_bitmap_banana.npy\")\n",
        "l3=np.full((d3.shape[0],1),2)\n",
        "d4=np.load(\"/content/full_numpy_bitmap_baseball.npy\")\n",
        "l4=np.full((d4.shape[0],1),3)\n",
        "d5=np.load(\"/content/full_numpy_bitmap_bird.npy\")\n",
        "l5=np.full((d5.shape[0],1),4)\n",
        "d6=np.load(\"/content/full_numpy_bitmap_bucket.npy\")\n",
        "l6=np.full((d6.shape[0],1),5)\n",
        "d7=np.load(\"/content/full_numpy_bitmap_butterfly.npy\")\n",
        "l7=np.full((d7.shape[0],1),6)\n",
        "d8=np.load(\"/content/full_numpy_bitmap_cat.npy\")\n",
        "l8=np.full((d8.shape[0],1),7)\n",
        "d9=np.load(\"/content/full_numpy_bitmap_coffee cup.npy\")\n",
        "l9=np.full((d9.shape[0],1),8)\n",
        "d10=np.load(\"/content/full_numpy_bitmap_dolphin.npy\")\n",
        "l10=np.full((d10.shape[0],1),9)\n",
        "d11=np.load(\"/content/full_numpy_bitmap_donut.npy\")\n",
        "l11=np.full((d11.shape[0],1),10)\n",
        "d12=np.load(\"/content/full_numpy_bitmap_duck.npy\")\n",
        "l12=np.full((d12.shape[0],1),11)\n",
        "d13=np.load(\"/content/full_numpy_bitmap_fish.npy\")\n",
        "l13=np.full((d13.shape[0],1),12)\n",
        "d14=np.load(\"/content/full_numpy_bitmap_leaf.npy\")\n",
        "l14=np.full((d14.shape[0],1),13)\n",
        "d15=np.load(\"/content/full_numpy_bitmap_mountain.npy\")\n",
        "l15=np.full((d15.shape[0],1),14)\n",
        "d16=np.load(\"/content/full_numpy_bitmap_pencil.npy\")\n",
        "l16=np.full((d16.shape[0],1),15)\n",
        "d17=np.load(\"/content/full_numpy_bitmap_smiley face.npy\")\n",
        "l17=np.full((d17.shape[0],1),16)\n",
        "d18=np.load(\"/content/full_numpy_bitmap_snake.npy\")\n",
        "l18=np.full((d18.shape[0],1),17)\n",
        "d19=np.load(\"/content/full_numpy_bitmap_umbrella.npy\")\n",
        "l19=np.full((d19.shape[0],1),18)\n",
        "d20=np.load(\"/content/full_numpy_bitmap_wine bottle.npy\")\n",
        "l20=np.full((d20.shape[0],1),19)\n",
        "dataset_whole=np.concatenate((d1,d2,d3,d4,d5,d6,d7,d8,d9,d10,d11,d12,d13,d14,d15,d16,d17,d18,d19,d20),axis=0)\n",
        "label_whole=np.concatenate( (l1,l2,l3,l4,l5,l6,l7,l8,l9,l10,l11,l12,l13,l14,l15,l16,l17,l18,l19,l20),axis=0)\n"
      ],
      "execution_count": null,
      "outputs": []
    },
    {
      "cell_type": "code",
      "metadata": {
        "id": "LZBzsGnhXA7v"
      },
      "source": [
        "#Custom Dataset\n",
        "class Data(Dataset):\n",
        "  def __init__(self):\n",
        "    self.x=dataset_whole.reshape(dataset_whole.shape[0],1,28,28)\n",
        "    \n",
        "    self.y=label_whole.reshape(dataset_whole.shape[0],)\n",
        "    self.n=dataset_whole.shape[0]\n",
        "  def __getitem__(self,i):\n",
        "    return self.x[i],self.y[i]\n",
        "  def __len__(self):\n",
        "    return self.n\n",
        "data=Data()\n",
        "train_data, test_data = torch.utils.data.random_split(data, [1650000,dataset_whole.shape[0]-1650000 ])\n",
        "dataloader=DataLoader(train_data,batch_size=10000,shuffle=True)\n",
        "\n",
        "dataloader_test=DataLoader(test_data,batch_size=10000,shuffle=True)\n"
      ],
      "execution_count": null,
      "outputs": []
    },
    {
      "cell_type": "code",
      "metadata": {
        "id": "wjDQWIAsXGD1"
      },
      "source": [
        "class Net(nn.Module):\n",
        "  def __init__(self):\n",
        "    super(Net,self).__init__() \n",
        "    self.c1=nn.Conv2d(1,8,5,padding=1)\n",
        "    self.mp1=nn.MaxPool2d(2,2)\n",
        "    self.c2=nn.Conv2d(8,16,5,padding=1)\n",
        "    self.c3=nn.Conv2d(16 ,28, 3, padding=1)\n",
        "    self.c4=nn.Conv2d(28,48,3,padding=1)\n",
        "    self.l1=nn.Linear(48*5*5,500)\n",
        "    self.do=nn.Dropout(0.25)\n",
        "    self.l2=nn.Linear(500,250)\n",
        "    self.l3=nn.Linear(250,20)\n",
        "    \n",
        "  def forward(self,x):\n",
        "    x= self.mp1(f.relu(self.c1(x)))\n",
        "    x= self.mp1(f.relu(self.c2(x)))\n",
        "    x= f.relu(self.c3(x))\n",
        "    x= f.relu(self.c4(x))\n",
        "    x=x.view(-1,48*5*5)\n",
        "    x= (f.relu(self.l1(x)))\n",
        "    x= (f.relu(self.l2(x)))\n",
        "    x= self.l3(x)  \n",
        "    return x\n",
        "    \n",
        "Doodle=Net().to(device)\n",
        "loss =nn.CrossEntropyLoss()\n",
        "opt= op.SGD(Doodle.parameters(),lr=0.01)"
      ],
      "execution_count": null,
      "outputs": []
    },
    {
      "cell_type": "code",
      "metadata": {
        "id": "afpYDddEXMm9"
      },
      "source": [
        "cost_values=[]\n",
        "for j in range(100):\n",
        "  for i,(data , target) in enumerate(dataloader):\n",
        "    data=torch.tensor(data).to(device)\n",
        "    target=torch.tensor(target).to(device)\n",
        "    opt.zero_grad()\n",
        "    out=Doodle(data.float())\n",
        "    cost=loss(out,target)\n",
        "    cost.backward()\n",
        "    opt.step()\n",
        "    \n",
        "  print(\"Epoch--> \",j,\" Cost--> \",cost.item())\n",
        "  cost_values.append(cost.item())\n",
        "plt.plot(cost_values)\n",
        "plt.xlabel(\"number of Epochs\")\n",
        "plt.ylabel(\"Loss Value\")\n"
      ],
      "execution_count": null,
      "outputs": []
    },
    {
      "cell_type": "code",
      "metadata": {
        "id": "XTDJdIq1XTrd"
      },
      "source": [
        "#Saving the model \n",
        "File=\"doodle.pth\"\n",
        "torch.save(Doodle.state_dict(),File)"
      ],
      "execution_count": null,
      "outputs": []
    },
    {
      "cell_type": "code",
      "metadata": {
        "id": "W8DgX5P9XXna"
      },
      "source": [
        "#Accuracy\n",
        "c=0\n",
        "for i,(data , target) in enumerate(dataloader_test):\n",
        " \n",
        "  target=target.to(device)\n",
        "  out=Doodle(torch.tensor(data).to(device).float())\n",
        "  n=torch.argmax(out,axis=1).to(device)\n",
        "  r=n==target\n",
        "  a=torch.ones(target.shape).to(device)\n",
        "  r=a*r\n",
        "  c+=torch.sum(r).item()\n",
        "print(\"Test accuracy--> \",(c/(dataset_whole.shape[0]-1650000 ))*100)\n",
        "\n",
        "c=0\n",
        "for j,(data , target) in enumerate(dataloader):\n",
        "  target=target.to(device)\n",
        "  out=Doodle(torch.tensor(data).to(device).float())\n",
        "  n=torch.argmax(out,axis=1).to(device)\n",
        "  r=n==target\n",
        "  a=torch.ones(target.shape).to(device)\n",
        "  r=a*r\n",
        "  c+=torch.sum(r).item()\n",
        "print(\"train accuracy--> \",(c/1650000)*100)\n"
      ],
      "execution_count": null,
      "outputs": []
    }
  ]
}